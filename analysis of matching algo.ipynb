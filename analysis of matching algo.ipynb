{
 "cells": [
  {
   "cell_type": "code",
   "execution_count": 1,
   "id": "wired-fleece",
   "metadata": {},
   "outputs": [],
   "source": [
    "import numpy as np\n",
    "import matplotlib.pyplot as plt\n",
    "import uproot\n",
    "import awkward as ak\n",
    "import pyjet\n",
    "\n",
    "from matching import matching\n",
    "\n",
    "plt.style.use(\"scientific.mplstyle\")\n",
    "file = uproot.open(\"/eos/user/c/clange/PFNano/myNanoProdMc_NANO.root\")\n",
    "event_tree = file['Events']"
   ]
  },
  {
   "cell_type": "code",
   "execution_count": 2,
   "id": "innocent-services",
   "metadata": {},
   "outputs": [],
   "source": [
    "max_idx = 20000\n",
    "\n",
    "recojet_pts = event_tree['Jet_pt'].array(entry_stop=max_idx, library='np')\n",
    "recojet_etas = event_tree['Jet_eta'].array(entry_stop=max_idx, library='np')\n",
    "recojet_phis = event_tree['Jet_phi'].array(entry_stop=max_idx, library='np')\n",
    "\n",
    "genjet_pts = event_tree['GenJet_pt'].array(entry_stop=max_idx, library='np')\n",
    "genjet_etas = event_tree['GenJet_eta'].array(entry_stop=max_idx, library='np')\n",
    "genjet_phis = event_tree['GenJet_phi'].array(entry_stop=max_idx, library='np')\n",
    "\n",
    "true_matching = event_tree['Jet_genJetIdx'].array(entry_stop=max_idx, library='np') # elements are arrys whoes i-th element matches the i-th recojet to the correct genjet. -1 when recojet is fake."
   ]
  },
  {
   "cell_type": "markdown",
   "id": "crazy-heater",
   "metadata": {},
   "source": [
    "## Accuracy of matching algorithm\n",
    "compare my matchings between recojet and genjet with the true matching"
   ]
  },
  {
   "cell_type": "code",
   "execution_count": 3,
   "id": "binary-tomorrow",
   "metadata": {},
   "outputs": [],
   "source": [
    "my_matchings = np.ndarray(max_idx, dtype='object')\n",
    "n_matches = 0 # total number of made matches \n",
    "\n",
    "for i in range(max_idx):    \n",
    "    my_matchings[i] = matching(recojet_etas[i], recojet_phis[i], genjet_etas[i], genjet_phis[i])\n",
    "    n_matches += len(recojet_etas[i])"
   ]
  },
  {
   "cell_type": "code",
   "execution_count": 9,
   "id": "rough-argentina",
   "metadata": {},
   "outputs": [],
   "source": [
    "def matching_accuracy(my_matching, true_matching):\n",
    "    '''\n",
    "    Run matching algorithm for reco and gen jets. Using true_matching, the percentage of correct matches is deduced.\n",
    "    '''\n",
    "    # treat special case of an event with no jets:\n",
    "    if len(true_matching) == 0:\n",
    "        return 1.0, 1.0, 0\n",
    "        \n",
    "    # note that len(true_matching) == len(recojet_) always\n",
    "    correct_match = np.where(my_matching==true_matching)[0]  \n",
    "    n_correct = len(correct_match)\n",
    "    n_fail = len(true_matching) - n_correct\n",
    "    matching_acc = n_correct/len(true_matching)\n",
    "    \n",
    "        \n",
    "    return matching_acc, n_correct, n_fail"
   ]
  },
  {
   "cell_type": "code",
   "execution_count": 10,
   "id": "educated-anime",
   "metadata": {},
   "outputs": [],
   "source": [
    "accs = np.zeros(max_idx, dtype=\"float32\")\n",
    "n_correct, n_not_correct = 0, 0\n",
    "\n",
    "for i in range(max_idx):\n",
    "    accs[i], n_good, n_bad = matching_accuracy(my_matchings[i], true_matching[i])\n",
    "    n_correct += n_good\n",
    "    n_not_correct += n_bad"
   ]
  },
  {
   "cell_type": "code",
   "execution_count": 19,
   "id": "informed-fleet",
   "metadata": {},
   "outputs": [
    {
     "data": {
      "image/png": "[encoded data removed]",
      "text/plain": [
       "<Figure size 576x432 with 1 Axes>"
      ]
     },
     "metadata": {
      "needs_background": "light"
     },
     "output_type": "display_data"
    },
    {
     "name": "stdout",
     "output_type": "stream",
     "text": [
      "frequency of correct matching: 98.11%\n"
     ]
    }
   ],
   "source": [
    "fig = plt.figure(figsize=(8,6))\n",
    "plt.hist(accs, bins=20, histtype='step')\n",
    "plt.yscale('log')\n",
    "plt.title(\"Matching accuracy between reco and genjets\")\n",
    "plt.xlabel(\"Accuracy\")\n",
    "plt.ylabel(\"\\# number of events with given jet matching accuracy\")\n",
    "stats_str = \"comparing matchings for {} events\\n\\nmean: {:.4f}\".format(max_idx, np.mean(accs))\n",
    "plt.text(0.1, 0.9, stats_str, ha='left', va='top', transform = plt.gca().transAxes)\n",
    "plt.show()\n",
    "\n",
    "print(\"frequency of correct matching: {:.2%}\".format(n_correct/(n_correct+n_not_correct)))\n",
    "\n",
    "#fig.savefig('plots/matching algo analysis/matching_acc.pdf')"
   ]
  },
  {
   "cell_type": "markdown",
   "id": "governing-threshold",
   "metadata": {},
   "source": [
    "#### Conclusion\n",
    "The matching algorithm works well and one can expect that 96% of the made matches are accurate.\n",
    "\n",
    "## Investigate mistakes of matching algorithm\n",
    "The algorithm can make three mistakes:\n",
    "1. match a fake jet, i.e. when element in my_matching is != -1 but true_matching = -1\n",
    "2. not making a match i.e. labeling as fake jet eventhough is true jet: my_matching = -1 but true_matching != -1. Henceforth refered to as false fake jets.\n",
    "3. make an incorrect match, i.e. element in my_matching = 3 but true_matching = 2. \n",
    "\n",
    "Note that the given frequency is always $\\frac{\\text{# error occurences}}{\\text{total # matches}}$\n",
    "\n",
    "Not that the matching is based on $\\Delta R$ while the pt value of jets is not considered, other than matching hard jets first. Hence, I dont expect the pt distribution of the error jets to be of interest. "
   ]
  },
  {
   "cell_type": "code",
   "execution_count": null,
   "id": "neural-institute",
   "metadata": {},
   "outputs": [],
   "source": [
    "def matching_errors(my_matchings):\n",
    "    '''Finds event and jet id where matching alogrithm has failed.\n",
    "    Lists will be returned containing tuples (event_idx, jet_idx) where error occured. Note that jet_idx is index for reco jet.'''\n",
    "    fake_jets = []\n",
    "    falsefake = []\n",
    "    wrong_match = []\n",
    "    \n",
    "    for i in range(max_idx):\n",
    "        my_matching = my_matchings[i]\n",
    "        \n",
    "        if (my_matching == true_matching[i]).all():\n",
    "            continue\n",
    "        \n",
    "        # Correct pair of j-th recojet is true_genidx\n",
    "        for j,true_genidx in enumerate(true_matching[i]):\n",
    "            # error 1\n",
    "            if (true_genidx == -1) and (my_matching[j] != -1):\n",
    "                fake_jets.append((i, j))\n",
    "                continue\n",
    "            # error 2\n",
    "            elif (true_genidx != -1) and (my_matching[j] == -1):\n",
    "                falsefake.append((i, j))\n",
    "                continue\n",
    "            # error 3\n",
    "            elif true_genidx != my_matching[j]:\n",
    "                wrong_match.append((i, j)) \n",
    "                continue\n",
    "    \n",
    "    \n",
    "    return fake_jets, falsefake, wrong_match"
   ]
  },
  {
   "cell_type": "code",
   "execution_count": null,
   "id": "found-ticket",
   "metadata": {},
   "outputs": [],
   "source": [
    "fakejets_matched, falsefakejets_matched, wrongjets_matched = matching_errors(my_matchings)"
   ]
  },
  {
   "cell_type": "markdown",
   "id": "dangerous-sword",
   "metadata": {},
   "source": [
    "#### Error 1: mistakenly pairing a fake recojet to a genjet \n",
    "plot $\\Delta R, \\Delta \\phi, \\Delta \\eta$ between recojet and the incorrectly matched genjet.\n",
    "\n",
    "I dont plot the pt for these recojets which are actually no jets in reality since this hints to the problem in the jet clustering (which is not done here) rather than my matching algorithm."
   ]
  },
  {
   "cell_type": "code",
   "execution_count": null,
   "id": "removed-retirement",
   "metadata": {},
   "outputs": [],
   "source": [
    "fakedelta_eta, fakedelta_phi, fakedelta_d = [], [], []\n",
    "\n",
    "for pair in fakejets_matched:\n",
    "    # pair[0] gives event_idx, pair[1] gives recojet idx\n",
    "    recophi, recoeta = recojet_phis[pair[0]][pair[1]], recojet_etas[pair[0]][pair[1]]\n",
    "    genidx = my_matchings[pair[0]][pair[1]]\n",
    "    genphi, geneta = genjet_phis[pair[0]][genidx], genjet_etas[pair[0]][genidx]\n",
    "    \n",
    "    delta_eta, delta_phi = recoeta-geneta, recophi-genphi\n",
    "    fakedelta_eta.append(delta_eta)\n",
    "    fakedelta_phi.append(delta_phi)\n",
    "    fakedelta_d.append(np.sqrt(delta_eta**2 + delta_phi**2))    "
   ]
  },
  {
   "cell_type": "code",
   "execution_count": null,
   "id": "capital-muscle",
   "metadata": {},
   "outputs": [],
   "source": [
    "# single plot for Delta R\n",
    "fig = plt.figure(figsize=(8,6))\n",
    "\n",
    "plt.hist(fakedelta_d, bins=12, histtype='step')\n",
    "plt.title('$\\Delta R$ between fake recojet and paired genjet')\n",
    "plt.xlabel('$\\Delta R$')\n",
    "plt.ylabel('Counts')\n",
    "stats_str = \"frequency in \\%: {:.2%} \\nmean: {:.3f}\\nstd: {:.3f}\".format(len(fakejets_matched)/n_matches, np.mean(fakedelta_d), np.std(fakedelta_d))\n",
    "plt.text(0.1, 0.9, stats_str, ha='left', va='top', transform = plt.gca().transAxes)\n",
    "plt.show()\n",
    "\n",
    "#fig.savefig(\"Error1.pdf\")"
   ]
  },
  {
   "cell_type": "code",
   "execution_count": null,
   "id": "included-homeless",
   "metadata": {},
   "outputs": [],
   "source": [
    "fig, ax = plt.subplots(1,2, figsize=(22,6))\n",
    "\n",
    "ax[0].hist(fakedelta_d, bins=12, histtype='step')\n",
    "ax[0].set_title('Error 1: $\\Delta R$ between fake recojet and paired genjet')\n",
    "ax[0].set_xlabel('$\\Delta R$')\n",
    "ax[0].set_ylabel('# of occurences at given separation of jets')\n",
    "stats_str = \"frequency: {:.2%}\\nmean: {:.3f}\\nstd: {:.3f}\".format(len(fakejets_matched)/n_matches, np.mean(fakedelta_d), np.std(fakedelta_d))\n",
    "ax[0].text(0.1, 0.9, stats_str, ha='left', va='top', transform = ax[0].transAxes)\n",
    "\n",
    "h = ax[1].hist2d(fakedelta_eta, fakedelta_phi, bins=200, cmap='plasma')\n",
    "ax[1].set_title('Kinematic differences between fake recojet and paired genjet')\n",
    "ax[1].set_xlabel('$\\Delta \\eta$')\n",
    "ax[1].set_ylabel('$\\Delta \\phi$')\n",
    "fig.colorbar(h[3], ax=ax[1])\n",
    "plt.show()\n",
    "\n",
    "#fig.savefig(\"plots/matching algo analysis/Error1.pdf\")"
   ]
  },
  {
   "cell_type": "markdown",
   "id": "discrete-finding",
   "metadata": {},
   "source": [
    "#### Conclusion\n",
    "Only very few occurences, so conclusions are limited in their reliability. Most of the errors occur with $\\Delta R$ near the cut off value, indicating an even smaller cut off value (say 0.15) would decrease this error further. But as the number of occurences is significantly smaller then in error 2, it is not recommended to increase the cut off value for d.\n",
    "\n",
    "#### Error 2: Wrongly claiming that a jet is fake: false fakes\n",
    "# WIP: Kinematics plot odd even choosing d_max = 0.4"
   ]
  },
  {
   "cell_type": "code",
   "execution_count": null,
   "id": "collected-weapon",
   "metadata": {},
   "outputs": [],
   "source": [
    "def min_dist(recojet_etas, recojet_phis, genjet_etas, genjet_phis, error_idx, Rmax):\n",
    "    '''Function is almost identical to matching algo, except that the minimal available distance to a genjet is returned for the false fake jet at error_idx.'''\n",
    "    my_matching = np.full(len(recojet_etas), -1, dtype='int8')\n",
    "    \n",
    "    for i, (recoeta, recophi) in enumerate(zip(recojet_etas, recojet_phis)):\n",
    "        # find distance between one of recojets and all genjets\n",
    "        ds = np.sqrt((recoeta-genjet_etas)**2 + (recophi-genjet_phis)**2)\n",
    "        \n",
    "        mins_idx = np.argsort(ds)\n",
    "        for idx in mins_idx:\n",
    "            if (i == error_idx):\n",
    "                if (ds[idx] >= Rmax):\n",
    "                    return ds[idx]\n",
    "            # when index already used in an earlier pair, go the index providing next smallest distance\n",
    "            if idx in my_matching:\n",
    "                continue\n",
    "            # when difference larger than max difference for correct matching, claim jet to be fake and leave entry as -1 \n",
    "            elif ds[idx] >= Rmax:\n",
    "                break\n",
    "            else:\n",
    "                my_matching[i] = idx\n",
    "                break\n",
    "      \n",
    "    return 0.2\n",
    "    raise Exception(\"Code shouln't run until here.\") #event 7119 does so"
   ]
  },
  {
   "cell_type": "code",
   "execution_count": null,
   "id": "seasonal-limit",
   "metadata": {},
   "outputs": [],
   "source": [
    "falsefake_min_R = np.empty(len(falsefakejets_matched), dtype=\"float32\") # stores minimal available distance to a genjet for all false fakes\n",
    "falsefake_eta, falsefake_phi, falsefake_pts = [], [], [] # store dynamical variables of false fake to check if there is a shared property\n",
    "idx_error_count = 0\n",
    "\n",
    "for i, pair in enumerate(falsefakejets_matched):\n",
    "    falsefake_min_R[i] = min_dist(recojet_etas[pair[0]], recojet_phis[pair[0]], genjet_etas[pair[0]], genjet_phis[pair[0]], pair[1], 0.2)\n",
    "    # get dynamical variables\n",
    "    try:\n",
    "        true_genidx = true_matching[pair[0]][pair[1]]\n",
    "        genphi, geneta = genjet_phis[pair[0]][true_genidx], genjet_etas[pair[0]][true_genidx]\n",
    "        falsefake_phi.append(genphi)\n",
    "        falsefake_eta.append(geneta)\n",
    "        falsefake_pts.append(genjet_pts[pair[0]][true_genidx])\n",
    "    except IndexError:\n",
    "        idx_error_count += 1\n",
    "        \n",
    "print(\"For some events find that indicies in true_matching outside the of bounds for genjet. In {} events had {} such occurences.\".format(max_idx, idx_error_count))"
   ]
  },
  {
   "cell_type": "code",
   "execution_count": null,
   "id": "silver-rebel",
   "metadata": {},
   "outputs": [],
   "source": [
    "# single plot for Delta R\n",
    "fig = plt.figure(figsize=(8,6))\n",
    "\n",
    "plt.hist(falsefake_min_R, bins=50, range=(0,1), histtype='step')\n",
    "plt.title(\"Smallest avaiable distance between false-fake jet and any genjet\")\n",
    "plt.xlabel('$\\Delta R_{min}$')\n",
    "plt.ylabel('Counts')\n",
    "stats_str = \"frequency in \\%: {:.2%}\".format(len(falsefakejets_matched)/n_matches)\n",
    "plt.text(0.9, 0.9, stats_str, ha='right', va='top', transform = plt.gca().transAxes)\n",
    "plt.show()\n",
    "\n",
    "# fig.savefig(\"Error2.pdf\")"
   ]
  },
  {
   "cell_type": "code",
   "execution_count": null,
   "id": "raising-zoning",
   "metadata": {},
   "outputs": [],
   "source": [
    "fig, ax = plt.subplots(1,2, figsize=(20,6))\n",
    "    \n",
    "ax[0].hist(falsefake_min_R, bins=50, range=(0,1), histtype='step')\n",
    "ax[0].set_title(\"Error 2: Smallest avaiable distance to a genjet\")\n",
    "ax[0].set_xlabel(\"$R_{min}$\")\n",
    "stats_str = \"frequency: {:.2%}\".format(len(falsefakejets_matched)/n_matches)\n",
    "ax[0].text(0.95, 0.9, stats_str, ha='right', va='top', transform = ax[0].transAxes)\n",
    "    \n",
    "\n",
    "h = ax[1].hist2d(falsefake_eta, falsefake_phi, bins=200, cmap='plasma')\n",
    "ax[1].set_title('Kinematic variables for false fake jets')\n",
    "ax[1].set_xlabel('$\\eta$')\n",
    "ax[1].set_ylabel('$\\phi$')\n",
    "fig.colorbar(h[3], ax=ax[1])\n",
    "\n",
    "\n",
    "plt.show()\n",
    "\n",
    "#fig.savefig(\"plots/matching algo analysis/Error2.pdf\")"
   ]
  },
  {
   "cell_type": "markdown",
   "id": "whole-martial",
   "metadata": {},
   "source": [
    "#### Conclusion\n",
    "The first plot shows that the majority of error 2 instances are made due to $Rmax=0.2$, rather than a larger value. Increasing this cut off will change the other errors and one must find a good balance between them. But since the number of occurences of error 2 is larger than the number of occurences of error 1, it is advisable to set $Rmax=0.4$.There is no obvious pattern in the $\\eta, \\phi$ plot expect that $|\\eta| \\leq 3$.\n",
    "\n",
    "$Rmax=0.4$ reduces frequnecy of error 2 by a factor of 2 while error 1 remains unchanged. Further, the algorithm accuracy is increasded to 98.2%\n",
    "\n",
    "#### Error 3: matching the wong jets"
   ]
  },
  {
   "cell_type": "code",
   "execution_count": null,
   "id": "stopped-viking",
   "metadata": {},
   "outputs": [],
   "source": [
    "if len(wrongjets_matched) == 0:\n",
    "    raise Exception(\"Prevent following code from being run as no wrong matches have been made\")"
   ]
  },
  {
   "cell_type": "code",
   "execution_count": null,
   "id": "received-omaha",
   "metadata": {},
   "outputs": [],
   "source": [
    "delta_eta, delta_phi, delta_R = [], [], [] # differences between the correct and my genjet partner of a recojet\n",
    "\n",
    "idx_error_count = 0\n",
    "\n",
    "for pair in wrongjets_matched:\n",
    "    try:\n",
    "        my_genidx = my_matchings[pair[0]][pair[1]]\n",
    "        true_genidx = true_matching[pair[0]][pair[1]]\n",
    "\n",
    "        my_genphi, my_geneta = genjet_phis[pair[0]][my_genidx], genjet_etas[pair[0]][my_genidx]\n",
    "        true_genphi, true_geneta = genjet_phis[pair[0]][true_genidx], genjet_etas[pair[0]][true_genidx]\n",
    "\n",
    "        d_eta, d_phi = my_geneta-true_geneta, my_genphi-true_genphi\n",
    "        delta_eta.append(d_eta)\n",
    "        delta_phi.append(d_phi)\n",
    "        delta_R.append(np.sqrt(d_eta**2 + d_phi**2))\n",
    "        \n",
    "    except IndexError:\n",
    "        idx_error_count += 1\n",
    "    \n",
    "print(\"For some events find that indicies in true_matching outside the of bounds for genjet. In {} events had {} such occurences.\".format(max_idx, idx_error_count))"
   ]
  },
  {
   "cell_type": "code",
   "execution_count": null,
   "id": "entertaining-retrieval",
   "metadata": {},
   "outputs": [],
   "source": [
    "fig, ax = plt.subplots(1,2, figsize=(20,6))\n",
    "\n",
    "ax[0].hist(delta_R, bins=50)\n",
    "ax[0].set_title('Error 3: $\\Delta R$ between my and the correct choice for genjet')\n",
    "ax[0].set_xlabel('$\\Delta R$')\n",
    "stats_str = \"frequency: {:.2%}\\nmean: {:.3f}\\nstd: {:.3f}\".format(len(wrongjets_matched)/n_matches, np.mean(delta_R), np.std(delta_R))\n",
    "ax[0].text(0.95, 0.9, stats_str, ha='right', va='top', transform = ax[0].transAxes)\n",
    "\n",
    "h = ax[1].hist2d(delta_eta, delta_phi, bins=200, cmap='plasma')\n",
    "ax[1].set_title('Kinematic differences for incorrect matchings')\n",
    "ax[1].set_xlabel('$\\Delta \\eta$')\n",
    "ax[1].set_ylabel('$\\Delta \\phi$')\n",
    "fig.colorbar(h[3], ax=ax[1])\n",
    "plt.show()\n",
    "\n",
    "#fig.savefig(\"plots/matching algo analysis/Error3.pdf\")"
   ]
  },
  {
   "cell_type": "markdown",
   "id": "attended-academy",
   "metadata": {},
   "source": [
    "#### Conclusion\n",
    "Matching algorithm typically doesn't match to a incorrect genjet."
   ]
  }
 ],
 "metadata": {
  "kernelspec": {
   "display_name": "Python 3",
   "language": "python",
   "name": "python3"
  },
  "language_info": {
   "codemirror_mode": {
    "name": "ipython",
    "version": 3
   },
   "file_extension": ".py",
   "mimetype": "text/x-python",
   "name": "python",
   "nbconvert_exporter": "python",
   "pygments_lexer": "ipython3",
   "version": "3.8.6"
  }
 },
 "nbformat": 4,
 "nbformat_minor": 5
}
