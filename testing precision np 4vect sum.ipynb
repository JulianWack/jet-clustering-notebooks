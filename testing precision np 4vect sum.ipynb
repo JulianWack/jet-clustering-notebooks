{
 "cells": [
  {
   "cell_type": "code",
   "execution_count": 1,
   "id": "metropolitan-transparency",
   "metadata": {},
   "outputs": [],
   "source": [
    "import mpmath"
   ]
  },
  {
   "cell_type": "code",
   "execution_count": 2,
   "id": "romance-eating",
   "metadata": {},
   "outputs": [],
   "source": [
    "mpmath.mp.dps = 100"
   ]
  },
  {
   "cell_type": "code",
   "execution_count": 3,
   "id": "descending-salon",
   "metadata": {},
   "outputs": [
    {
     "name": "stdout",
     "output_type": "stream",
     "text": [
      "Mpmath settings:\n",
      "  mp.prec = 336               [default: 53]\n",
      "  mp.dps = 100                [default: 15]\n",
      "  mp.trap_complex = False     [default: False]\n"
     ]
    }
   ],
   "source": [
    "print(mpmath.mp)"
   ]
  },
  {
   "cell_type": "code",
   "execution_count": 4,
   "id": "heavy-discount",
   "metadata": {},
   "outputs": [],
   "source": [
    "import numpy as np\n",
    "import matplotlib.pyplot as plt\n",
    "import uproot\n",
    "import awkward as ak\n",
    "import pyjet\n",
    "import time\n",
    "from coffea.nanoevents.methods import vector\n",
    "ak.behavior.update(vector.behavior)\n",
    "\n",
    "from matching import matching\n",
    "\n",
    "plt.style.use(\"scientific.mplstyle\")\n",
    "\n",
    "file = uproot.open(\"/eos/user/c/clange/PFNano/myNanoProdMc_NANO.root\")\n",
    "event_tree = file['Events']"
   ]
  },
  {
   "cell_type": "code",
   "execution_count": 5,
   "id": "optimum-lending",
   "metadata": {},
   "outputs": [],
   "source": [
    "max_idx = 200\n",
    "\n",
    "pts = event_tree['PF_pt'].array(entry_stop=max_idx, library='np')\n",
    "etas = event_tree['PF_eta'].array(entry_stop=max_idx, library='np')\n",
    "phis = event_tree['PF_phi'].array(entry_stop=max_idx, library='np')\n",
    "masses = event_tree['PF_mass'].array(entry_stop=max_idx, library='np')\n",
    "\n",
    "pf_recojetidx = event_tree['PF_jetsIdx'].array(entry_stop=max_idx, library='np')"
   ]
  },
  {
   "cell_type": "code",
   "execution_count": 6,
   "id": "twelve-junction",
   "metadata": {},
   "outputs": [],
   "source": [
    "np_cos = np.frompyfunc(mpmath.cos, 1, 1)\n",
    "np_sin = np.frompyfunc(mpmath.sin, 1, 1)\n",
    "np_cosh = np.frompyfunc(mpmath.cosh, 1, 1)\n",
    "np_sinh = np.frompyfunc(mpmath.sinh, 1, 1)\n",
    "np_arctan2 = np.frompyfunc(mpmath.atan2, 2, 1)\n",
    "np_log = np.frompyfunc(mpmath.log, 1, 1)"
   ]
  },
  {
   "cell_type": "code",
   "execution_count": 7,
   "id": "rational-future",
   "metadata": {},
   "outputs": [],
   "source": [
    "def ak_sum4vec(pt, eta, phi, mass):\n",
    "    vec4 = ak.zip({\"pt\": pt, \"eta\": eta, \"phi\": phi, \"mass\": mass}, with_name=\"PtEtaPhiMLorentzVector\")\n",
    "    summe = ak.zip({\"pt\": [0], \"eta\": [0], \"phi\": [0], \"mass\": [0]}, with_name=\"PtEtaPhiMLorentzVector\")\n",
    "    \n",
    "    for elm in vec4:\n",
    "        summe = summe.add(elm)\n",
    "        \n",
    "    return summe\n",
    "\n",
    "\n",
    "\n",
    "def CosTheta(x, y, z):\n",
    "    '''Find angle theta between z axis and cartesian 3 vector'''\n",
    "    mag = np.sqrt(x**2+y**2+z**2)\n",
    "    if mag == 0.0:\n",
    "        costheta = 1\n",
    "    else:\n",
    "        costheta = z/mag\n",
    "        \n",
    "    return costheta\n",
    "\n",
    "\n",
    "def get_pt(x, y):\n",
    "    '''Find pt as polar radial distance from z axis'''\n",
    "    return np.sqrt(x**2+y**2)\n",
    "\n",
    "\n",
    "def get_eta(x, y, z):\n",
    "    '''Find pesudo rapidity from cartesian 3 vector'''\n",
    "    cosTheta = CosTheta(x, y, z)\n",
    "    if cosTheta**2 < 1:\n",
    "        eta = -0.5*np.log((1.0-cosTheta)/(1.0+cosTheta))\n",
    "    elif z == 0:\n",
    "        eta = 0\n",
    "    elif z > 0:\n",
    "        eta = 10e10\n",
    "    else:\n",
    "        eta = -10e10\n",
    "        \n",
    "    return eta\n",
    "\n",
    "\n",
    "def get_phi(x, y):\n",
    "    '''Find polar angle phi from cartesian 4 vector'''\n",
    "    if (x==0) and (y==0):\n",
    "        phi = 0\n",
    "    else:\n",
    "        phi = np_arctan2(y,x)\n",
    "        \n",
    "    return phi\n",
    "\n",
    "\n",
    "def get_m(x, y, z, t):\n",
    "    '''Find invariant mass from cartesian 4 vector'''\n",
    "    delta_s2 = t**2 - (x**2 + y**2 + z**2)\n",
    "    if delta_s2 < 0:\n",
    "        m = -np.sqrt(-delta_s2)\n",
    "    else:\n",
    "        m = np.sqrt(delta_s2)\n",
    "        \n",
    "    return m\n",
    "\n",
    "\n",
    "def np_sum4vec(pt, eta, phi, mass):\n",
    "    '''Takes in 4 1D np.arrays as componnents of len(pt)-many PtEtaPhiM 4 vectors and returns the sum of these 4 vectors\n",
    "    as a np.array of length 4 with elements in order of: Pt, Eta, Phi, Mass.'''\n",
    "    \n",
    "    # make 4 vector based on ROOT TLorentzVector::SetPtEtaPhiM, which allows element wise sumation\n",
    "    n_PF = len(pt)\n",
    "    vec4 = np.ndarray((n_PF,4))\n",
    "    \n",
    "    vec4[:,0] = pt*np_cos(phi)\n",
    "    vec4[:,1] = pt*np_sin(phi)\n",
    "    vec4[:,2] = pt*np_sinh(eta)\n",
    "    \n",
    "    non_neg = np.sqrt(pt**2*np_cosh(eta)**2 + mass**2)\n",
    "    neg = np.sqrt(np.maximum(pt**2*np_cosh(eta)**2 - mass**2, mpmath.mpf('0')))\n",
    "    vec4[:,3] = np.where(mass>=0, non_neg, neg)\n",
    "\n",
    "    vec4_summed = np.sum(vec4, axis=0)\n",
    "    \n",
    "    # extract pt, eta, phi, mass from cartesian 4 vector based on ROOT TLorentzVector::Pt, Eta, Phi, M\n",
    "    sum_PtEtaPhiM = np.empty(4)\n",
    "    sum_PtEtaPhiM[0] = get_pt(vec4_summed[0], vec4_summed[1])\n",
    "    sum_PtEtaPhiM[1] = get_eta(vec4_summed[0], vec4_summed[1], vec4_summed[2])\n",
    "    sum_PtEtaPhiM[2] = get_phi(vec4_summed[0], vec4_summed[1])\n",
    "    sum_PtEtaPhiM[3] = get_m(vec4_summed[0], vec4_summed[1], vec4_summed[2], vec4_summed[3])\n",
    "    \n",
    "    \n",
    "    return sum_PtEtaPhiM"
   ]
  },
  {
   "cell_type": "code",
   "execution_count": 8,
   "id": "multiple-search",
   "metadata": {
    "pixiedust": {
     "displayParams": {}
    }
   },
   "outputs": [],
   "source": [
    "# # compare sums\n",
    "# print(\"{0: <20} {1: >10} {2: >10} {3: >10} {4: >10}\".format(\"sum type\", \"pt\", \"eta\", \"phi\", \"mass\"))\n",
    "# for i in range(1):\n",
    "#     print(f\"event {i} --------\")\n",
    "#     for j in np.unique(pf_recojetidx[i])[1:]:\n",
    "#         consti_mask = np.where(pf_recojetidx[i]==j)[0]\n",
    "#         ak_sum = ak_sum4vec(pts[i][consti_mask], etas[i][consti_mask], phis[i][consti_mask], masses[i][consti_mask])\n",
    "#         np_sum = np_sum4vec(pts[i][consti_mask], etas[i][consti_mask], phis[i][consti_mask], masses[i][consti_mask])\n",
    "#         print(f\"Jet: {j}\")\n",
    "#         print(\"{0: <20} {1: 10.3f} {2: 10.3f} {3: 10.3f} {4: 10.3f}\".format(\"ak sum\", ak_sum.pt[0], ak_sum.eta[0], ak_sum.phi[0], ak_sum.mass[0]))\n",
    "#         print(\"{0: <20} {1: 10.3f} {2: 10.3f} {3: 10.3f} {4: 10.3f}\".format(\"np sum\", np_sum[0], np_sum[1], np_sum[2], np_sum[3]))\n",
    "#         print(\"\\n\")"
   ]
  },
  {
   "cell_type": "code",
   "execution_count": 9,
   "id": "specified-belgium",
   "metadata": {},
   "outputs": [
    {
     "name": "stdout",
     "output_type": "stream",
     "text": [
      "AK sum: 135.38720417022705\n",
      "NP sum: 10.430126905441284\n"
     ]
    }
   ],
   "source": [
    "ak_pt, ak_eta, ak_phi, ak_m = [], [], [], []\n",
    "\n",
    "t1 = time.time()\n",
    "for i in range(max_idx):\n",
    "    for j in np.unique(pf_recojetidx[i])[1:]:\n",
    "        consti_mask = np.where(pf_recojetidx[i]==j)[0]\n",
    "        ak_sum = ak_sum4vec(pts[i][consti_mask], etas[i][consti_mask], phis[i][consti_mask], masses[i][consti_mask])\n",
    "        \n",
    "        ak_pt.append(ak_sum.pt[0])\n",
    "        ak_eta.append(ak_sum.eta[0])\n",
    "        ak_phi.append(ak_sum.phi[0])\n",
    "        ak_m.append(ak_sum.mass[0])\n",
    "        \n",
    "t2 = time.time()\n",
    "print(\"AK sum: {}\".format(t2-t1))\n",
    "        \n",
    "        \n",
    "        \n",
    "np_pt, np_eta, np_phi, np_m = [], [], [], []\n",
    "\n",
    "t = 0\n",
    "for i in range(max_idx):\n",
    "    for j in np.unique(pf_recojetidx[i])[1:]:\n",
    "        consti_mask = np.where(pf_recojetidx[i]==j)[0]\n",
    "        pt = np.array([mpmath.mpf(str(p)) for p in pts[i][consti_mask]])\n",
    "        eta = np.array([mpmath.mpf(str(e)) for e in etas[i][consti_mask]])\n",
    "        phi = np.array([mpmath.mpf(str(p)) for p in phis[i][consti_mask]])\n",
    "        m = np.array([mpmath.mpf(str(m)) for m in masses[i][consti_mask]])\n",
    "        t3 = time.time()\n",
    "        np_sum = np_sum4vec(pt, eta, phi, m)\n",
    "        t4 = time.time()\n",
    "        t += t4-t3\n",
    "        np_pt.append(np_sum[0])\n",
    "        np_eta.append(np_sum[1])\n",
    "        np_phi.append(np_sum[2])\n",
    "        np_m.append(np_sum[3])\n",
    "        \n",
    "\n",
    "print(\"NP sum: {}\".format(t))\n",
    "\n",
    "\n",
    "d_pt = np.asarray(np_pt) - np.asarray(ak_pt)\n",
    "d_eta = np.asarray(np_eta) - np.asarray(ak_eta)\n",
    "d_phi = np.asarray(np_phi) - np.asarray(ak_phi)\n",
    "d_m = np.asarray(np_m) - np.asarray(ak_m)"
   ]
  },
  {
   "cell_type": "code",
   "execution_count": 38,
   "id": "boolean-listening",
   "metadata": {},
   "outputs": [
    {
     "data": {
      "image/png": "[encoded data removed]",
      "text/plain": [
       "<Figure size 1440x864 with 4 Axes>"
      ]
     },
     "metadata": {
      "needs_background": "light"
     },
     "output_type": "display_data"
    }
   ],
   "source": [
    "fig, ax = plt.subplots(2,2, figsize=(20, 12))\n",
    "plt.rcParams.update({'font.size': 12})\n",
    "\n",
    "ax[0][0].hist(d_pt, bins=50, histtype='step')\n",
    "ax[0][0].text(0.05, 0.9, \"\\# compared jets: {:.0f}\".format(len(d_pt)), ha='left', va='top', transform = ax[0][0].transAxes)\n",
    "#ax[0][0].text(0.05, 0.9, \"\\# compared jets: {:.0f}\\n Run time for np sum: {:.3f} sec\".format(len(d_pt), t4-t3), ha='left', va='top', transform = ax[0][0].transAxes)\n",
    "ax[0][0].set_title('np sum - ak sum for jet $pt$')\n",
    "ax[0][0].set_yscale('log')\n",
    "ax[0][0].set_xlabel(\"$\\Delta pt$\")\n",
    "ax[0][0].set_ylabel('Counts')\n",
    "\n",
    "ax[0][1].hist(d_eta, bins=50, histtype='step')\n",
    "ax[0][1].set_title('np sum - ak sum for jet $\\eta$')\n",
    "ax[0][1].set_yscale('log')\n",
    "ax[0][1].set_xlabel(\"$\\Delta \\eta$\")\n",
    "ax[0][1].set_ylabel('Counts')\n",
    "\n",
    "ax[1][0].hist(d_phi, bins=50, histtype='step')\n",
    "ax[1][0].set_title('np sum - ak sum for jet $\\phi$')\n",
    "ax[1][0].set_yscale('log')\n",
    "ax[1][0].set_xlabel(\"$\\Delta \\phi$\")\n",
    "ax[1][0].set_ylabel('Counts')\n",
    "\n",
    "ax[1][1].hist(d_m, bins=50, histtype='step')\n",
    "ax[1][1].set_title('np sum - ak sum for jet $m$')\n",
    "ax[1][1].set_yscale('log')\n",
    "ax[1][1].set_xlabel(\"$\\Delta m$\")\n",
    "ax[1][1].set_ylabel('Counts')\n",
    "\n",
    "\n",
    "plt.show()\n",
    "#fig.savefig(\"plots/np_4vect_sum_accuracy_dps100.pdf\")"
   ]
  },
  {
   "cell_type": "code",
   "execution_count": null,
   "id": "african-nicaragua",
   "metadata": {},
   "outputs": [],
   "source": []
  }
 ],
 "metadata": {
  "kernelspec": {
   "display_name": "Python 3",
   "language": "python",
   "name": "python3"
  },
  "language_info": {
   "codemirror_mode": {
    "name": "ipython",
    "version": 3
   },
   "file_extension": ".py",
   "mimetype": "text/x-python",
   "name": "python",
   "nbconvert_exporter": "python",
   "pygments_lexer": "ipython3",
   "version": "3.8.6"
  }
 },
 "nbformat": 4,
 "nbformat_minor": 5
}
