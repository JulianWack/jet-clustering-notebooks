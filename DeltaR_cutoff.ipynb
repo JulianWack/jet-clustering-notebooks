{
 "cells": [
  {
   "cell_type": "markdown",
   "id": "mysterious-color",
   "metadata": {},
   "source": [
    "### Check if there exists a maximum distance in $\\eta, \\phi$ plot for correct matches between simjet and genjet"
   ]
  },
  {
   "cell_type": "code",
   "execution_count": 2,
   "id": "living-revolution",
   "metadata": {},
   "outputs": [],
   "source": [
    "import numpy as np\n",
    "import matplotlib.pyplot as plt\n",
    "import uproot\n",
    "import awkward as ak\n",
    "import pyjet\n",
    "\n",
    "plt.style.use(\"scientific.mplstyle\")\n",
    "file = uproot.open(\"/eos/user/c/clange/PFNano/myNanoProdMc_NANO.root\")\n",
    "event_tree = file['Events']"
   ]
  },
  {
   "cell_type": "code",
   "execution_count": 3,
   "id": "hundred-conflict",
   "metadata": {},
   "outputs": [],
   "source": [
    "max_idx = 20000\n",
    "recojet_etas = event_tree['Jet_eta'].array(entry_stop=max_idx, library='np')\n",
    "recojet_phis = event_tree['Jet_phi'].array(entry_stop=max_idx, library='np')\n",
    "\n",
    "genjet_etas = event_tree['GenJet_eta'].array(entry_stop=max_idx, library='np')\n",
    "genjet_phis = event_tree['GenJet_phi'].array(entry_stop=max_idx, library='np')\n",
    "\n",
    "true_matching = event_tree['Jet_genJetIdx'].array(entry_stop=max_idx, library='np') # index pairs for reco and gen jets"
   ]
  },
  {
   "cell_type": "code",
   "execution_count": 4,
   "id": "complicated-movement",
   "metadata": {},
   "outputs": [],
   "source": [
    "deltaRs = []\n",
    "for event_idx in range(max_idx):\n",
    "    for recojet_idx, genjet_idx in enumerate(true_matching[event_idx]):\n",
    "        if genjet_idx == -1:\n",
    "            continue\n",
    "        # sometimes true_matching contains index outside the bound of genjet \n",
    "        try:\n",
    "            delta_eta = recojet_etas[event_idx][recojet_idx] - genjet_etas[event_idx][genjet_idx]\n",
    "            delta_phi = recojet_phis[event_idx][recojet_idx] - genjet_phis[event_idx][genjet_idx]\n",
    "            deltaRs.append(delta_eta**2 + delta_phi**2)\n",
    "        except IndexError:\n",
    "            continue"
   ]
  },
  {
   "cell_type": "code",
   "execution_count": 23,
   "id": "ruled-software",
   "metadata": {},
   "outputs": [
    {
     "data": {
      "image/png": "[encoded data removed]",
      "text/plain": [
       "<Figure size 576x432 with 1 Axes>"
      ]
     },
     "metadata": {
      "needs_background": "light"
     },
     "output_type": "display_data"
    }
   ],
   "source": [
    "fig = plt.figure(figsize=(8,6))\n",
    "\n",
    "values, bins, _ = plt.hist(deltaRs, bins=65, range=(0,0.2), histtype='step')\n",
    "plt.title(\"$\\Delta R$ between correctly matched recojet and genjet\")\n",
    "plt.yscale('log')\n",
    "plt.xlabel(\"$\\Delta R$\")\n",
    "plt.ylabel(\"Counts\")\n",
    "stats_str = \"comparing matchings for {} events\\n\\n \\# pairs: {:.0f}\\nmax $\\Delta R$: {:.3f}\".format(max_idx, sum(values), bins[np.nonzero(values)[0][-1]])\n",
    "plt.text(0.9, 0.9, stats_str, ha='right', va='top', transform = plt.gca().transAxes)\n",
    "plt.show()\n",
    "\n",
    "fig.savefig(\"plots/DeltaR_cutoff.pdf\")"
   ]
  },
  {
   "cell_type": "markdown",
   "id": "pressing-safety",
   "metadata": {},
   "source": [
    "### Conclusion\n",
    "Observe that for correct matchings we have $d < 0.2$. This motivates the implementation of a cut off value for $d$ in my matching algorithm. When the smallest available $d >= 0.2$, I claim that the jet can't be paired and is thus fake (i.e. set paired genjet index to $-1$)."
   ]
  }
 ],
 "metadata": {
  "kernelspec": {
   "display_name": "Python 3",
   "language": "python",
   "name": "python3"
  },
  "language_info": {
   "codemirror_mode": {
    "name": "ipython",
    "version": 3
   },
   "file_extension": ".py",
   "mimetype": "text/x-python",
   "name": "python",
   "nbconvert_exporter": "python",
   "pygments_lexer": "ipython3",
   "version": "3.8.6"
  }
 },
 "nbformat": 4,
 "nbformat_minor": 5
}
