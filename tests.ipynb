{
 "cells": [
  {
   "cell_type": "code",
   "execution_count": 1,
   "id": "pleasant-creator",
   "metadata": {},
   "outputs": [],
   "source": [
    "import numpy as np\n",
    "import matplotlib.pyplot as plt\n",
    "import uproot\n",
    "import awkward as ak\n",
    "import pyjet\n",
    "import time\n",
    "from coffea.nanoevents.methods import vector\n",
    "ak.behavior.update(vector.behavior)\n",
    "\n",
    "from matching import matching\n",
    "\n",
    "plt.style.use(\"scientific.mplstyle\")\n",
    "\n",
    "file = uproot.open(\"/eos/user/c/clange/PFNano/myNanoProdMc_NANO.root\")\n",
    "event_tree = file['Events']"
   ]
  },
  {
   "cell_type": "markdown",
   "id": "round-shopping",
   "metadata": {},
   "source": [
    "# Comparing clustering times for no puppi and puppi\n",
    "Orgin for eta = 10e10: https://root.cern.ch/doc/master/TVector3_8cxx_source.html#l00326"
   ]
  },
  {
   "cell_type": "code",
   "execution_count": 5,
   "id": "nearby-citizenship",
   "metadata": {},
   "outputs": [],
   "source": [
    "# event 24, jet 3 is problematic with puppi weights\n",
    "min_idx = 0\n",
    "max_idx = 4\n",
    "\n",
    "pts = event_tree['PF_pt'].array(entry_start=min_idx, entry_stop=max_idx, library='np')\n",
    "etas = event_tree['PF_eta'].array(entry_start=min_idx, entry_stop=max_idx, library='np')\n",
    "phis = event_tree['PF_phi'].array(entry_start=min_idx, entry_stop=max_idx, library='np')\n",
    "masses = event_tree['PF_mass'].array(entry_start=min_idx, entry_stop=max_idx, library='np')\n",
    "puppi_weights = event_tree['PF_puppiWeight'].array(entry_start=min_idx, entry_stop=max_idx, library='np')"
   ]
  },
  {
   "cell_type": "code",
   "execution_count": 3,
   "id": "numeric-program",
   "metadata": {},
   "outputs": [],
   "source": [
    "def no_puppi_clustering(pts, etas, phis, masses, i):\n",
    "    '''Cluster jets for one event with anti kt, 15 Gev pt cut off, and using puppi pileup mitigation.'''\n",
    "    event_4vect = np.column_stack((pts, etas, phis, masses)).astype('float64')\n",
    "    events = np.core.records.fromarrays(event_4vect.transpose(), names='pt, eta, phi, mass', formats = 'f8, f8, f8, f8')\n",
    "    print(\"-------\")\n",
    "    t1 = time.time()\n",
    "    sequence = pyjet.cluster(events, R=0.4, p=-1)\n",
    "    my_jets = sequence.inclusive_jets(ptmin=15)\n",
    "    t2 = time.time()\n",
    "    print(\"event: {}, time: {}\".format(i,t2-t1))\n",
    "    \n",
    "    return my_jets\n",
    "\n",
    "\n",
    "def puppi_clustering(pts, etas, phis, masses, puppi_weights, i):\n",
    "    '''Cluster jets for one event with anti kt, 15 Gev pt cut off, and using puppi pileup mitigation.'''\n",
    "    pts = pts*puppi_weights \n",
    "    event_4vect = np.column_stack((pts, etas, phis, masses)).astype('float64')\n",
    "    events = np.core.records.fromarrays(event_4vect.transpose(), names='pt, eta, phi, mass', formats = 'f8, f8, f8, f8')\n",
    "    print(\"-------\")\n",
    "    t1 = time.time()\n",
    "    sequence = pyjet.cluster(events, R=0.4, p=-1)\n",
    "    my_jets = sequence.inclusive_jets(ptmin=15)\n",
    "    t2 = time.time()\n",
    "    print(\"event: {}, time: {}\".format(i,t2-t1))\n",
    "    \n",
    "    return my_jets"
   ]
  },
  {
   "cell_type": "code",
   "execution_count": 6,
   "id": "harmful-digit",
   "metadata": {
    "scrolled": true
   },
   "outputs": [
    {
     "name": "stdout",
     "output_type": "stream",
     "text": [
      "No puppi:\n",
      "-------\n",
      "event: 0, time: 0.0010538101196289062\n",
      "-------\n",
      "event: 1, time: 0.0024280548095703125\n",
      "-------\n",
      "event: 2, time: 0.0012543201446533203\n",
      "-------\n",
      "event: 3, time: 0.0019860267639160156\n",
      "\n",
      "puppi:\n",
      "-------\n",
      "event: 0, time: 0.01419210433959961\n",
      "-------\n",
      "event: 1, time: 0.34406566619873047\n",
      "-------\n",
      "event: 2, time: 0.017362594604492188\n",
      "-------\n",
      "event: 3, time: 0.12714028358459473\n"
     ]
    }
   ],
   "source": [
    "print(\"No puppi:\")\n",
    "for i in range(max_idx-min_idx):\n",
    "    no_puppi_clustering(pts[i], etas[i], phis[i], masses[i], i+min_idx)\n",
    "    \n",
    "    \n",
    "print(\"\\npuppi:\")\n",
    "for i in range(max_idx-min_idx):\n",
    "    puppi_clustering(pts[i], etas[i], phis[i], masses[i], puppi_weights[i], i+min_idx)"
   ]
  },
  {
   "cell_type": "code",
   "execution_count": 7,
   "id": "filled-sensitivity",
   "metadata": {
    "scrolled": false
   },
   "outputs": [
    {
     "name": "stdout",
     "output_type": "stream",
     "text": [
      "-------\n",
      "event: 0, time: 0.0005729198455810547\n"
     ]
    },
    {
     "data": {
      "image/png": "[encoded data removed]",
      "text/plain": [
       "<Figure size 1296x432 with 3 Axes>"
      ]
     },
     "metadata": {
      "needs_background": "light"
     },
     "output_type": "display_data"
    }
   ],
   "source": [
    "i = 0-min_idx\n",
    "puppi_mask = np.where(puppi_weights[i]==0.0, False, True)\n",
    "myjets_puppi = puppi_clustering(pts[i][puppi_mask], etas[i][puppi_mask], phis[i][puppi_mask], masses[i][puppi_mask], puppi_weights[i][puppi_mask], i+min_idx)\n",
    "\n",
    "pt, eta, phi = [], [], []\n",
    "for jet in myjets_puppi:\n",
    "    pt.extend(jet.constituents_array()['pT'])\n",
    "    eta.extend(jet.constituents_array()['eta'])\n",
    "    phi.extend(jet.constituents_array()['phi'])\n",
    "    \n",
    "fig, ax = plt.subplots(1, 3, figsize=(18,6))\n",
    "\n",
    "ax[0].hist(pt)\n",
    "ax[0].set_title(\"pt, event {}\".format(i))\n",
    "ax[0].set_xlabel(\"pt\")\n",
    "\n",
    "ax[1].hist(eta)\n",
    "ax[1].set_title(\"eta, event {}\".format(i))\n",
    "ax[1].set_xlabel(\"eta\")\n",
    "\n",
    "ax[2].hist(phi)\n",
    "ax[2].set_title(\"phi, event {}\".format(i))\n",
    "ax[2].set_xlabel(\"phi\")\n",
    "\n",
    "plt.show()"
   ]
  },
  {
   "cell_type": "markdown",
   "id": "provincial-click",
   "metadata": {},
   "source": [
    "# Number of PF with puppi weight = 0, as function of $\\eta$"
   ]
  },
  {
   "cell_type": "code",
   "execution_count": 3,
   "id": "unknown-crime",
   "metadata": {},
   "outputs": [],
   "source": [
    "max_idx = 200\n",
    "\n",
    "etas = event_tree['PF_eta'].array(entry_stop=max_idx, library='np')\n",
    "puppi_weights = event_tree['PF_puppiWeight'].array(entry_stop=max_idx, library='np')"
   ]
  },
  {
   "cell_type": "code",
   "execution_count": 25,
   "id": "desperate-promise",
   "metadata": {},
   "outputs": [],
   "source": [
    "zero_weight_etas = []\n",
    "etas_flat = []\n",
    "for i in range(max_idx):\n",
    "    zero_weight_mask = np.where(puppi_weights[i] == 0)[0]\n",
    "    zero_weight_etas.extend(etas[i][zero_weight_mask])\n",
    "    etas_flat.extend(etas[i])"
   ]
  },
  {
   "cell_type": "code",
   "execution_count": 33,
   "id": "express-baltimore",
   "metadata": {},
   "outputs": [
    {
     "data": {
      "image/png": "[encoded data removed]",
      "text/plain": [
       "<Figure size 576x432 with 1 Axes>"
      ]
     },
     "metadata": {
      "needs_background": "light"
     },
     "output_type": "display_data"
    }
   ],
   "source": [
    "fig = plt.figure(figsize=(8,6)) \n",
    "\n",
    "plt.hist([zero_weight_etas, etas_flat], bins=50, label=['zero weight', 'all PF'])\n",
    "plt.title(f\"$\\eta$ of PF candidates with puppi weight = 0 (first {max_idx} events)\")\n",
    "plt.xlabel(\"$\\eta$\")\n",
    "plt.ylabel(\"# PF with puppi weight = 0 \")\n",
    "plt.legend()\n",
    "plt.show()\n",
    "\n",
    "#fig.savefig(\"plots/eta_dist.pdf\")"
   ]
  },
  {
   "cell_type": "markdown",
   "id": "indie-albany",
   "metadata": {},
   "source": [
    "### Conclusion\n",
    "Virtually all PF with $|\\eta|>3$ have a zero weight."
   ]
  },
  {
   "cell_type": "markdown",
   "id": "569bf18e",
   "metadata": {},
   "source": [
    "# Comparing pt of reco and genjets"
   ]
  },
  {
   "cell_type": "code",
   "execution_count": 26,
   "id": "557df7f2",
   "metadata": {},
   "outputs": [],
   "source": [
    "max_idx = 20000\n",
    "\n",
    "reco_pts = event_tree['Jet_pt'].array(entry_stop=max_idx, library='np')\n",
    "reco_etas = event_tree['Jet_eta'].array(entry_stop=max_idx, library='np')\n",
    "reco_phis = event_tree['Jet_phi'].array(entry_stop=max_idx, library='np')\n",
    "\n",
    "gen_pts = event_tree['GenJet_pt'].array(entry_stop=max_idx, library='np')\n",
    "gen_etas = event_tree['GenJet_eta'].array(entry_stop=max_idx, library='np')\n",
    "gen_phis = event_tree['GenJet_phi'].array(entry_stop=max_idx, library='np')"
   ]
  },
  {
   "cell_type": "code",
   "execution_count": 27,
   "id": "885b7c74",
   "metadata": {},
   "outputs": [],
   "source": [
    "norm_d_pt = []\n",
    "\n",
    "for i in range(max_idx):\n",
    "    matches = matching(reco_etas[i], reco_phis[i], gen_etas[i], gen_phis[i])\n",
    "    for reco_idx, gen_idx in enumerate(matches):\n",
    "        if gen_idx == -1:\n",
    "            continue\n",
    "        norm_d_pt.append((reco_pts[i][reco_idx] - gen_pts[i][gen_idx])/gen_pts[i][gen_idx])\n",
    "        \n",
    "norm_d_pt = np.array(norm_d_pt)"
   ]
  },
  {
   "cell_type": "code",
   "execution_count": 28,
   "id": "492cf99f",
   "metadata": {},
   "outputs": [],
   "source": [
    "# get jets from testing\n",
    "norm_d_pt = norm_d_pt[-14865:] "
   ]
  },
  {
   "cell_type": "code",
   "execution_count": 30,
   "id": "427406bf",
   "metadata": {},
   "outputs": [
    {
     "data": {
      "image/png": "[encoded data removed]",
      "text/plain": [
       "<Figure size 576x432 with 1 Axes>"
      ]
     },
     "metadata": {
      "needs_background": "light"
     },
     "output_type": "display_data"
    }
   ],
   "source": [
    "fig = plt.figure(figsize=(8,6))\n",
    "\n",
    "plt.hist(norm_d_pt, bins=100, histtype='step')\n",
    "text = \"{} compared jets\".format(len(norm_d_pt))\n",
    "plt.yscale('log')\n",
    "plt.title(\"Normalized $\\Delta pt$\")\n",
    "plt.text(0.9, 0.9, text, ha='right', va='top', transform = plt.gca().transAxes)\n",
    "plt.ylabel(\"Counts\")\n",
    "plt.xlabel(\"$\\\\frac{recojet_{pt} - genjet_{pt}}{genjet_{pt}}$\")\n",
    "plt.show()\n",
    "\n",
    "fig.savefig(\"Delta_pt_reco_pt.pdf\")"
   ]
  },
  {
   "cell_type": "code",
   "execution_count": 22,
   "id": "631d8387",
   "metadata": {},
   "outputs": [],
   "source": [
    "mask = np.where(abs(norm_d_pt)<1, True, False)"
   ]
  },
  {
   "cell_type": "code",
   "execution_count": 25,
   "id": "532749cf",
   "metadata": {},
   "outputs": [
    {
     "data": {
      "image/png": "[encoded data removed]",
      "text/plain": [
       "<Figure size 576x432 with 1 Axes>"
      ]
     },
     "metadata": {
      "needs_background": "light"
     },
     "output_type": "display_data"
    }
   ],
   "source": [
    "fig = plt.figure(figsize=(8,6))\n",
    "\n",
    "plt.hist(norm_d_pt[mask], bins=50, histtype='step')\n",
    "text = \"{} compared jets\".format(len(np.nonzero(mask)[0]))\n",
    "plt.yscale('log')\n",
    "plt.title(\"Normalized $\\Delta pt$\")\n",
    "plt.text(0.9, 0.9, text, ha='right', va='top', transform = plt.gca().transAxes)\n",
    "plt.ylabel(\"Counts\")\n",
    "plt.xlabel(\"$\\\\frac{recojet_{pt} - genjet_{pt}}{genjet_{pt}}$\")\n",
    "plt.show()\n",
    "\n",
    "fig.savefig(\"Delta_pt_reco_pt_detail.pdf\")"
   ]
  },
  {
   "cell_type": "code",
   "execution_count": null,
   "id": "ef05bd29",
   "metadata": {},
   "outputs": [],
   "source": []
  }
 ],
 "metadata": {
  "kernelspec": {
   "display_name": "Python 3",
   "language": "python",
   "name": "python3"
  },
  "language_info": {
   "codemirror_mode": {
    "name": "ipython",
    "version": 3
   },
   "file_extension": ".py",
   "mimetype": "text/x-python",
   "name": "python",
   "nbconvert_exporter": "python",
   "pygments_lexer": "ipython3",
   "version": "3.8.6"
  }
 },
 "nbformat": 4,
 "nbformat_minor": 5
}
